{
 "cells": [
  {
   "cell_type": "markdown",
   "id": "869e57c7",
   "metadata": {},
   "source": [
    "# Hospital 1\n",
    "\n",
    "See hospital.py for full code"
   ]
  },
  {
   "cell_type": "code",
   "execution_count": 1,
   "id": "c6c7af9d",
   "metadata": {},
   "outputs": [],
   "source": [
    "from hospital.hospital import Hospital\n",
    "import nest_asyncio\n",
    "\n",
    "nest_asyncio.apply()"
   ]
  },
  {
   "cell_type": "code",
   "execution_count": 2,
   "id": "3034b343",
   "metadata": {},
   "outputs": [],
   "source": [
    "data_location = 'data/hospital1.csv'"
   ]
  },
  {
   "cell_type": "code",
   "execution_count": 3,
   "id": "ae6d0973",
   "metadata": {},
   "outputs": [],
   "source": [
    "WEBHOOK_HOST = \"0.0.0.0\"\n",
    "WEBHOOK_PORT = 8052\n",
    "WEBHOOK_BASE = \"\"\n",
    "ADMIN_URL = \"http://hospital1-agent:8051\"\n",
    "\n",
    "agent_config = {\n",
    "    \"webhook_host\": WEBHOOK_HOST,\n",
    "    \"webhook_port\": WEBHOOK_PORT,\n",
    "    \"webhook_base\": WEBHOOK_BASE,\n",
    "    \"admin_url\": ADMIN_URL\n",
    "}"
   ]
  },
  {
   "cell_type": "code",
   "execution_count": 4,
   "id": "8bfc0be9",
   "metadata": {},
   "outputs": [
    {
     "name": "stdout",
     "output_type": "stream",
     "text": [
      "Subscribing too: basicmessages\n",
      "Subscribing too: connections\n",
      "Subscribing too: issue_credential\n",
      "Subscribing too: present_proof\n",
      "Data Processed\n"
     ]
    }
   ],
   "source": [
    "hospital1 = Hospital(agent_config, data_location)"
   ]
  },
  {
   "cell_type": "markdown",
   "id": "5a309fea",
   "metadata": {},
   "source": [
    "## Get Hospital Credential\n",
    "\n",
    "Copy connection invite from the NHS trust to receive the hospital credential. [NHS Trust Notebooks are here](http://localhost:8888/tree)"
   ]
  },
  {
   "cell_type": "code",
   "execution_count": 5,
   "id": "d38f8059",
   "metadata": {},
   "outputs": [],
   "source": [
    "# nhs_invite = {'@type': 'did:sov:BzCbsNYhMrjHiqZDTUASHg;spec/connections/1.0/invitation', '@id': '3ff04d9b-cb75-43a1-a133-6738af07f3a1', 'recipientKeys': ['EqCBuGidH8CiUC7k8myRJLPqGuDNL7YNm8ogVsXyokH9'], 'serviceEndpoint': 'http://172.17.0.1:8020', 'label': 'NHS Lothian'}\n",
    "# nhs_invite = {'@type': 'did:sov:BzCbsNYhMrjHiqZDTUASHg;spec/connections/1.0/invitation', '@id': '81cc09c2-e1f1-4dc8-9f29-9de58cdebda6', 'label': 'NHS Lothian', 'recipientKeys': ['75QKvavySRZEE5oLmzZug37bfFLcUUEYEjEt1XhVTJQ9'], 'serviceEndpoint': 'http://172.17.0.1:8020'}\n",
    "nhs_invite = {'@type': 'did:sov:BzCbsNYhMrjHiqZDTUASHg;spec/connections/1.0/invitation', '@id': 'f572748e-77eb-4caf-bcbb-dc579b6a9915', 'label': 'NHS Lothian', 'recipientKeys': ['2ZCLCSLYR95WExTvrjV8bT3htdWZ7dNzTd8hzK2gcwx7'], 'serviceEndpoint': 'http://172.17.0.1:8020'}"
   ]
  },
  {
   "cell_type": "code",
   "execution_count": 6,
   "id": "5d33f2ba",
   "metadata": {},
   "outputs": [
    {
     "name": "stdout",
     "output_type": "stream",
     "text": [
      "Connection Handler Called\n",
      "Connection 5e249af3-8d4e-4b7a-b954-974180c17e4b in State invitation\n",
      "Connection Handler Called\n",
      "Connection 5e249af3-8d4e-4b7a-b954-974180c17e4b in State request\n",
      "{'invitation_key': '2ZCLCSLYR95WExTvrjV8bT3htdWZ7dNzTd8hzK2gcwx7', 'created_at': '2021-07-24 16:32:30.917265Z', 'accept': 'manual', 'their_label': 'NHS Lothian', 'request_id': '89b300ba-dff1-4895-b04a-2f0b30e13cca', 'routing_state': 'none', 'my_did': 'NM77qbmX9HU1nNzcK93gQ7', 'their_role': 'inviter', 'rfc23_state': 'request-sent', 'invitation_mode': 'once', 'connection_id': '5e249af3-8d4e-4b7a-b954-974180c17e4b', 'updated_at': '2021-07-24 16:32:31.261132Z', 'state': 'request'}\n"
     ]
    }
   ],
   "source": [
    "response =await  hospital1.agent_controller.connections.accept_connection(nhs_invite)\n",
    "print(response)"
   ]
  },
  {
   "cell_type": "markdown",
   "id": "7553742c",
   "metadata": {},
   "source": [
    "## Optional: Configure Research Authentication Policy\n",
    "\n",
    "This is a proof request that the hospital will automatically challenge the researcher for"
   ]
  },
  {
   "cell_type": "code",
   "execution_count": 7,
   "id": "bf5245ee",
   "metadata": {},
   "outputs": [],
   "source": [
    "schema_id = \"FWyJ74b38bCF1QbYF7tWMM:2:Authorised Research:0.0.1\"\n",
    "# cred_def = \"WfntKNFwXMQfgmU9ofbxPM:3:CL:156569:default\"\n",
    "\n",
    "revocation = False\n",
    "exchange_tracing = False\n",
    "\n",
    "#Enable this to ask for attributes to identity a user\n",
    "#TODO - change restriction to schemaId or credentialId\n",
    "\n",
    "req_attrs = [\n",
    "    {\"name\": \"scope\", \"restrictions\": [{\"schema_id\": schema_id}]},#, \"cred_def_id\": cred_def}]},\n",
    "]\n",
    "\n",
    "global indy_proof_request\n",
    "indy_proof_request = {\n",
    "    \"name\": \"Proof of Hospital\",\n",
    "    \"version\": \"1.0\",\n",
    "    \"requested_attributes\": {\n",
    "        f\"0_{req_attr['name']}_uuid\":\n",
    "        req_attr for req_attr in req_attrs\n",
    "    },\n",
    "    \"requested_predicates\": {\n",
    "#         f\"0_{req_pred['name']}_GE_uuid\":\n",
    "#         req_pred for req_pred in req_preds\n",
    "    },\n",
    "}\n",
    "\n"
   ]
  },
  {
   "cell_type": "code",
   "execution_count": 8,
   "id": "40696219",
   "metadata": {},
   "outputs": [],
   "source": [
    "hospital1.set_authentication_policy(indy_proof_request)"
   ]
  },
  {
   "cell_type": "markdown",
   "id": "791bdb49",
   "metadata": {},
   "source": [
    "## Copy from Researcher"
   ]
  },
  {
   "cell_type": "code",
   "execution_count": 7,
   "id": "37ce36ed",
   "metadata": {},
   "outputs": [],
   "source": [
    "# research_invite = {\"@type\": \"did:sov:BzCbsNYhMrjHiqZDTUASHg;spec/connections/1.0/invitation\", \"@id\": \"2b58ba18-b610-41e9-9cd1-40218ce172cf\", \"recipientKeys\": [\"7R6SvZLAfV8qKGMQ2CrcNYXjGRexcnaKfaVwbu82gteN\"], \"serviceEndpoint\": \"http://172.17.0.1:8040\", \"label\": \"Health Researcher\"}\n",
    "# research_invite = {\"@type\": \"did:sov:BzCbsNYhMrjHiqZDTUASHg;spec/connections/1.0/invitation\", \"@id\": \"d2f5b2d7-423d-4bf2-a623-d33bb0ac096c\", \"recipientKeys\": [\"2b5N3vv4vCrEQBFXZP8m5VxFik5Qf9fQwkJg6jLGkWbh\"], \"label\": \"Health Researcher\", \"serviceEndpoint\": \"http://172.17.0.1:8040\"}\n",
    "\n",
    "research_invite = {\"@type\": \"did:sov:BzCbsNYhMrjHiqZDTUASHg;spec/connections/1.0/invitation\", \"@id\": \"3cb940ad-7294-4bae-a001-284b1b0ab842\", \"serviceEndpoint\": \"http://172.17.0.1:8040\", \"label\": \"Health Researcher\", \"recipientKeys\": [\"89HLw1FSm1Fy547oy1tEi6DryzRDoM6AFjNmzKBFyDEf\"]}"
   ]
  },
  {
   "cell_type": "code",
   "execution_count": 8,
   "id": "c2036184",
   "metadata": {},
   "outputs": [
    {
     "name": "stdout",
     "output_type": "stream",
     "text": [
      "Connection Handler Called\n",
      "Connection 78b49437-ad07-4f45-8191-67faec912905 in State invitation\n",
      "Connection Handler Called\n",
      "Connection 78b49437-ad07-4f45-8191-67faec912905 in State request\n",
      "Establishing connection\n",
      "Connection Handler Called\n",
      "Connection 78b49437-ad07-4f45-8191-67faec912905 in State response\n",
      "Connection Handler Called\n",
      "Connection 78b49437-ad07-4f45-8191-67faec912905 in State active\n",
      "Pending connection moved to active. Challenging with auth policy if set\n",
      "No Auth Policy set\n",
      "Trusted Research Connection Established - 78b49437-ad07-4f45-8191-67faec912905\n"
     ]
    },
    {
     "name": "stderr",
     "output_type": "stream",
     "text": [
      "WARNING:aries_webhook_server:Handling webhooks failed! IndexError('list index out of range') occurred when trying to handle this topic: present_proof\n"
     ]
    },
    {
     "name": "stdout",
     "output_type": "stream",
     "text": [
      "Handle present proof\n",
      "Role prover, Exchange 3fe3ee60-1ef8-4d82-a45b-b2e35b76474d in state request_received\n",
      "Received Authentication Challenge\n",
      "Credentials []\n"
     ]
    }
   ],
   "source": [
    "hospital1.establish_research_connection(research_invite)"
   ]
  },
  {
   "cell_type": "code",
   "execution_count": null,
   "id": "fd91fbab",
   "metadata": {},
   "outputs": [],
   "source": []
  }
 ],
 "metadata": {
  "kernelspec": {
   "display_name": "Python 3 (ipykernel)",
   "language": "python",
   "name": "python3"
  },
  "language_info": {
   "codemirror_mode": {
    "name": "ipython",
    "version": 3
   },
   "file_extension": ".py",
   "mimetype": "text/x-python",
   "name": "python",
   "nbconvert_exporter": "python",
   "pygments_lexer": "ipython3",
   "version": "3.9.5"
  }
 },
 "nbformat": 4,
 "nbformat_minor": 5
}