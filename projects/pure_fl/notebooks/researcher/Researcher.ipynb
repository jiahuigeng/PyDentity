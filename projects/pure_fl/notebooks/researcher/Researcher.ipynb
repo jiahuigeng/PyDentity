{
 "cells": [
  {
   "cell_type": "code",
   "execution_count": 1,
   "id": "8f67d285",
   "metadata": {},
   "outputs": [],
   "source": [
    "from researcher import Researcher\n",
    "import asyncio\n",
    "import nest_asyncio\n",
    "\n",
    "nest_asyncio.apply()"
   ]
  },
  {
   "cell_type": "code",
   "execution_count": 2,
   "id": "ffbb26f3",
   "metadata": {},
   "outputs": [],
   "source": [
    "    \n",
    "WEBHOOK_HOST = \"0.0.0.0\"\n",
    "WEBHOOK_PORT = 8042\n",
    "WEBHOOK_BASE = \"\"\n",
    "ADMIN_URL = \"http://researcher-agent:8041\"\n",
    "# ADMIN_URL = \"http://0.0.0.0:8041\"\n",
    "\n",
    "agent_config = {\n",
    "    \"webhook_host\": WEBHOOK_HOST,\n",
    "    \"webhook_port\": WEBHOOK_PORT,\n",
    "    \"webhook_base\": WEBHOOK_BASE,\n",
    "    \"admin_url\": ADMIN_URL\n",
    "}\n",
    "\n"
   ]
  },
  {
   "cell_type": "code",
   "execution_count": 3,
   "id": "3b0445a5",
   "metadata": {},
   "outputs": [],
   "source": [
    "import torch\n",
    "\n",
    "# models\n",
    "from torch import nn\n",
    "from torch import optim\n",
    "from torch.autograd import Variable\n",
    "import os\n",
    "import sys\n",
    "\n",
    "from opacus import PrivacyEngine\n",
    "\n",
    "# The Researcher generates the model\n",
    "\n",
    "model = nn.Sequential(\n",
    "            nn.Linear(8, 4),\n",
    "            nn.Sigmoid(),\n",
    "            nn.Linear(4, 2),\n",
    "            nn.Sigmoid(),\n",
    "            nn.Linear(2, 1),\n",
    "            nn.Sigmoid()\n",
    ")"
   ]
  },
  {
   "cell_type": "code",
   "execution_count": 4,
   "id": "9fd1cac3",
   "metadata": {},
   "outputs": [],
   "source": [
    "validation_data_path = 'data/coordinator_validation_data.csv'"
   ]
  },
  {
   "cell_type": "code",
   "execution_count": 5,
   "id": "641b086c",
   "metadata": {},
   "outputs": [
    {
     "name": "stdout",
     "output_type": "stream",
     "text": [
      "Subscribing too: basicmessages\n",
      "Subscribing too: connections\n",
      "Subscribing too: issue_credential\n",
      "Subscribing too: present_proof\n",
      "CLEANING THE VALIDATION SET\n",
      "VALIDATION SET HAS BEEN CLEANED\n"
     ]
    }
   ],
   "source": [
    "researcher = Researcher(agent_config, validation_data_path, model)"
   ]
  },
  {
   "cell_type": "markdown",
   "id": "7d77b5f1",
   "metadata": {},
   "source": [
    "## Request Authorised Research Credential\n",
    "\n",
    "Copy invite from the [Health Research Authority Notebook](http://localhost:8889/lab/tree/Health%20Research%20Regulator.ipynb)"
   ]
  },
  {
   "cell_type": "code",
   "execution_count": 6,
   "id": "40f1349e",
   "metadata": {},
   "outputs": [],
   "source": [
    "# invite = {'@type': 'did:sov:BzCbsNYhMrjHiqZDTUASHg;spec/connections/1.0/invitation', '@id': '6cccd38d-b34b-4798-aa7c-b529ddd315e0', 'recipientKeys': ['Fm7bvrNNTJCuT1RKjPqcNg96Xcamm6mwivNgQ7CpU8ph'], 'serviceEndpoint': 'http://172.17.0.1:8030', 'label': 'NHS Health Research Authority'}\n",
    "# invite = {'@type': 'did:sov:BzCbsNYhMrjHiqZDTUASHg;spec/connections/1.0/invitation', '@id': '8cceb9cb-e2f1-408b-b4ac-6edf72fc6308', 'recipientKeys': ['5ssrrfvjGvaTUV1RGhChdjCwFxYHckVZiEvSWP7Tcpfw'], 'label': 'NHS Health Research Authority', 'serviceEndpoint': 'http://172.17.0.1:8030'}\n",
    "\n",
    "# invite = {'@type': 'did:sov:BzCbsNYhMrjHiqZDTUASHg;spec/connections/1.0/invitation', '@id': 'd9a96a35-5d7a-4980-b6b4-cd7cbecbbb3a', 'label': 'NHS Health Research Authority', 'serviceEndpoint': 'http://172.17.0.1:8030', 'recipientKeys': ['6Ug1bMo6UatGWBGvAQwLVbJmfjJUabFsRgNKrr7yYex5']}\n",
    "\n",
    "invite = {'@type': 'did:sov:BzCbsNYhMrjHiqZDTUASHg;spec/connections/1.0/invitation', '@id': 'cb3915e4-a2e5-4286-96c6-9887cfecdfda', 'recipientKeys': ['5Fmf4c8NMZ39fvv1QSJQDxXsNMCQ7r6fS5EBUacuxHAv'], 'label': 'NHS Lothian', 'serviceEndpoint': 'http://172.17.0.1:8020'}"
   ]
  },
  {
   "cell_type": "code",
   "execution_count": 7,
   "id": "9660246b",
   "metadata": {},
   "outputs": [
    {
     "name": "stdout",
     "output_type": "stream",
     "text": [
      "Connection Handler Called\n",
      "Connection 37d6eee2-6446-4108-a1ce-d4882df9ee12 in State invitation\n",
      "Connection Handler Called\n",
      "Connection 37d6eee2-6446-4108-a1ce-d4882df9ee12 in State request\n"
     ]
    },
    {
     "data": {
      "text/plain": [
       "{'created_at': '2021-07-24 16:41:17.304453Z',\n",
       " 'invitation_key': '5Fmf4c8NMZ39fvv1QSJQDxXsNMCQ7r6fS5EBUacuxHAv',\n",
       " 'request_id': '69853d18-f22a-4831-9593-c2f7be30f3ea',\n",
       " 'routing_state': 'none',\n",
       " 'invitation_mode': 'once',\n",
       " 'their_role': 'inviter',\n",
       " 'rfc23_state': 'request-sent',\n",
       " 'my_did': '9H44a1CmZ1a1Crih14PcRW',\n",
       " 'accept': 'manual',\n",
       " 'state': 'request',\n",
       " 'connection_id': '37d6eee2-6446-4108-a1ce-d4882df9ee12',\n",
       " 'their_label': 'NHS Lothian',\n",
       " 'updated_at': '2021-07-24 16:41:17.705786Z'}"
      ]
     },
     "execution_count": 7,
     "metadata": {},
     "output_type": "execute_result"
    }
   ],
   "source": [
    "await researcher.agent_controller.connections.accept_connection(invite)"
   ]
  },
  {
   "cell_type": "markdown",
   "id": "71b84678",
   "metadata": {},
   "source": [
    "## Configure Authentication Policy\n",
    "\n",
    "Note: Normally we would specify the credential definition here specifying which entities we trust to issue this schema, but this changes every time because it's a demo.\n",
    "\n",
    "Feel free to copy yours across from the NHS Trust though."
   ]
  },
  {
   "cell_type": "code",
   "execution_count": 8,
   "id": "f0770baa",
   "metadata": {},
   "outputs": [],
   "source": [
    "\n",
    "\n",
    "schema_id = \"BvRKFu1fdzGdJzQcKb8e8p:2:NHS Hosptial:0.0.1\"\n",
    "# cred_def = \"WfntKNFwXMQfgmU9ofbxPM:3:CL:156569:default\"\n",
    "\n",
    "revocation = False\n",
    "exchange_tracing = False\n",
    "\n",
    "#Enable this to ask for attributes to identity a user\n",
    "#TODO - change restriction to schemaId or credentialId\n",
    "\n",
    "req_attrs = [\n",
    "    {\"name\": \"name\", \"restrictions\": [{\"schema_id\": schema_id}]},#, \"cred_def_id\": cred_def}]},\n",
    "]\n",
    "\n",
    "global indy_proof_request\n",
    "indy_proof_request = {\n",
    "    \"name\": \"Proof of Hospital\",\n",
    "    \"version\": \"1.0\",\n",
    "    \"requested_attributes\": {\n",
    "        f\"0_{req_attr['name']}_uuid\":\n",
    "        req_attr for req_attr in req_attrs\n",
    "    },\n",
    "    \"requested_predicates\": {\n",
    "#         f\"0_{req_pred['name']}_GE_uuid\":\n",
    "#         req_pred for req_pred in req_preds\n",
    "    },\n",
    "}\n",
    "\n"
   ]
  },
  {
   "cell_type": "code",
   "execution_count": 9,
   "id": "61ff2a94",
   "metadata": {},
   "outputs": [],
   "source": [
    "researcher.set_authentication_policy(indy_proof_request)"
   ]
  },
  {
   "cell_type": "markdown",
   "id": "2936561f",
   "metadata": {},
   "source": [
    "## Send Invite to Hospital 1\n",
    "\n",
    "Option: We could make this a multiuse invite."
   ]
  },
  {
   "cell_type": "code",
   "execution_count": null,
   "id": "b65697cb",
   "metadata": {
    "scrolled": true
   },
   "outputs": [
    {
     "name": "stdout",
     "output_type": "stream",
     "text": [
      "Connection Handler Called\n",
      "Connection d8fc8918-a414-4d09-83f0-3db07bb64573 in State invitation\n",
      "\n",
      "♫♫♫ > STEP 1: Send the aries invitation to the data owner\n",
      "\n",
      "{\"@type\": \"did:sov:BzCbsNYhMrjHiqZDTUASHg;spec/connections/1.0/invitation\", \"@id\": \"3cb940ad-7294-4bae-a001-284b1b0ab842\", \"serviceEndpoint\": \"http://172.17.0.1:8040\", \"label\": \"Health Researcher\", \"recipientKeys\": [\"89HLw1FSm1Fy547oy1tEi6DryzRDoM6AFjNmzKBFyDEf\"]}\n",
      "\n",
      "Connection Handler Called\n",
      "Connection d8fc8918-a414-4d09-83f0-3db07bb64573 in State request\n",
      "Accepting request  d8fc8918-a414-4d09-83f0-3db07bb64573\n",
      "Connection Handler Called\n",
      "Connection d8fc8918-a414-4d09-83f0-3db07bb64573 in State response\n",
      "Sending trust ping d8fc8918-a414-4d09-83f0-3db07bb64573\n",
      "Connection Handler Called\n",
      "Connection d8fc8918-a414-4d09-83f0-3db07bb64573 in State active\n",
      "Pending dataowner connection moved to active. Challenging with auth policy if set\n",
      "Handle present proof\n",
      "Role verifier, Exchange 23759f9d-b21c-4098-baa8-5a3d08ce5726 in state request_sent\n"
     ]
    }
   ],
   "source": [
    "researcher.new_dataowner_invite()"
   ]
  },
  {
   "cell_type": "markdown",
   "id": "dabe6818",
   "metadata": {},
   "source": [
    "## Send Invite to Hospital 2"
   ]
  },
  {
   "cell_type": "code",
   "execution_count": null,
   "id": "b6290b34",
   "metadata": {},
   "outputs": [
    {
     "name": "stdout",
     "output_type": "stream",
     "text": [
      "Connection Handler Called\n",
      "Connection 9ce84d69-1c4e-4e7c-89b4-4bb1058ae5f7 in State invitation\n",
      "\n",
      "♫♫♫ > STEP 1: Send the aries invitation to the data owner\n",
      "\n",
      "{\"@type\": \"did:sov:BzCbsNYhMrjHiqZDTUASHg;spec/connections/1.0/invitation\", \"@id\": \"7726f1fe-b674-4729-ab80-cdc056df103f\", \"recipientKeys\": [\"8ARx1iCpCtmLDib8UMYGk8s3RbwGMHmPhLiBgdU8aSWL\"], \"serviceEndpoint\": \"http://172.17.0.1:8040\", \"label\": \"Health Researcher\"}\n",
      "\n",
      "Connection Handler Called\n",
      "Connection 9ce84d69-1c4e-4e7c-89b4-4bb1058ae5f7 in State request\n",
      "Accepting request  9ce84d69-1c4e-4e7c-89b4-4bb1058ae5f7\n",
      "Connection Handler Called\n",
      "Connection 9ce84d69-1c4e-4e7c-89b4-4bb1058ae5f7 in State response\n",
      "Sending trust ping 9ce84d69-1c4e-4e7c-89b4-4bb1058ae5f7\n"
     ]
    },
    {
     "name": "stderr",
     "output_type": "stream",
     "text": [
      "WARNING:aries_webhook_server:Handling webhooks failed! IndexError('list index out of range') occurred when trying to handle this topic: present_proof\n"
     ]
    },
    {
     "name": "stdout",
     "output_type": "stream",
     "text": [
      "Connection Handler Called\n",
      "Connection 9ce84d69-1c4e-4e7c-89b4-4bb1058ae5f7 in State active\n",
      "Pending dataowner connection moved to active. Challenging with auth policy if set\n",
      "Handle present proof\n",
      "Role verifier, Exchange 5a880bf6-847a-4f37-97f3-afd684d9e660 in state request_sent\n",
      "Handle present proof\n",
      "Role prover, Exchange 054c34e1-a25a-4632-94f6-d325c8709814 in state request_received\n",
      "Received Authentication Challenge\n",
      "Credentials []\n"
     ]
    }
   ],
   "source": [
    "researcher.new_dataowner_invite()"
   ]
  },
  {
   "cell_type": "markdown",
   "id": "7eb0dbfa",
   "metadata": {},
   "source": [
    "## Send Invite to Hospital 3"
   ]
  },
  {
   "cell_type": "code",
   "execution_count": null,
   "id": "2d5fdc8a",
   "metadata": {},
   "outputs": [],
   "source": [
    "researcher.new_dataowner_invite()"
   ]
  },
  {
   "cell_type": "markdown",
   "id": "e3a9a443",
   "metadata": {},
   "source": [
    "## Initiate Learning\n",
    "\n",
    "PPML Learning messages are sent over DIDComm using the basic message protocol. You will be able to see the encrypted message in the terminal you initialised this project."
   ]
  },
  {
   "cell_type": "code",
   "execution_count": 11,
   "id": "5a75d386",
   "metadata": {},
   "outputs": [
    {
     "name": "stdout",
     "output_type": "stream",
     "text": [
      "MODEL OPENED FOR TRANSPORT\n",
      "Training model with 1 DataOwners\n",
      "HOSPITAL MODEL LOADED\n",
      "\n",
      "PRINTING PARAMETERS:\n",
      "\n",
      "\n",
      "Sequential(\n",
      "  (0): Linear(in_features=8, out_features=4, bias=True)\n",
      "  (1): Sigmoid()\n",
      "  (2): Linear(in_features=4, out_features=2, bias=True)\n",
      "  (3): Sigmoid()\n",
      "  (4): Linear(in_features=2, out_features=1, bias=True)\n",
      "  (5): Sigmoid()\n",
      ")\n",
      "\n",
      "\n",
      "0.weight tensor([[-0.2710, -0.9557,  0.2309, -1.9110, -0.9440, -0.4835,  1.8869,  3.2344],\n",
      "        [-0.7837, -0.9277,  1.5270, -2.2951, -0.0703,  2.0951, -0.2947,  0.4189],\n",
      "        [ 0.3087,  0.1126, -0.6512,  0.4391, -0.7844, -0.3249, -0.5029,  3.2722],\n",
      "        [-2.2386,  1.0693, -1.0953, -1.6919, -0.6925,  0.4706,  0.1246,  0.6962]])\n",
      "0.bias tensor([-1.0267, -0.2995, -2.2666,  1.8172])\n",
      "2.weight tensor([[ 1.7648,  1.0091,  1.9958, -2.0196],\n",
      "        [-2.6523, -2.2176, -2.9162,  4.3020]])\n",
      "2.bias tensor([-1.2612,  2.2130])\n",
      "4.weight tensor([[ 4.0461, -6.9314]])\n",
      "4.bias tensor([0.5980])\n",
      "\n",
      "\n",
      "\n",
      "HOSPITAL IS VALIDATING\n",
      "Model loss on validation set:  tensor(-0.7815, grad_fn=<SumBackward0>)\n",
      "Confusion Matrix:\n",
      "                Actual_True, Actual_False \n",
      " Predicted_True     114    |      33     \n",
      " Predicted_False    30      |       81     \n",
      "\n",
      "[{'connection_id': '60b0df3b-b1e7-4c1a-8d77-82c18cd9a9eb', 'model_file': 'part_trained_60b0df3b-b1e7-4c1a-8d77-82c18cd9a9eb.pt'}]\n",
      "LEARNING COMPLETE\n"
     ]
    }
   ],
   "source": [
    "researcher.initiate_learning()"
   ]
  },
  {
   "cell_type": "code",
   "execution_count": null,
   "id": "dd5bba11",
   "metadata": {},
   "outputs": [],
   "source": []
  },
  {
   "cell_type": "code",
   "execution_count": null,
   "id": "57512d17",
   "metadata": {},
   "outputs": [],
   "source": []
  },
  {
   "cell_type": "code",
   "execution_count": null,
   "id": "9bf7257c",
   "metadata": {},
   "outputs": [],
   "source": []
  }
 ],
 "metadata": {
  "kernelspec": {
   "display_name": "Python 3 (ipykernel)",
   "language": "python",
   "name": "python3"
  },
  "language_info": {
   "codemirror_mode": {
    "name": "ipython",
    "version": 3
   },
   "file_extension": ".py",
   "mimetype": "text/x-python",
   "name": "python",
   "nbconvert_exporter": "python",
   "pygments_lexer": "ipython3",
   "version": "3.9.5"
  }
 },
 "nbformat": 4,
 "nbformat_minor": 5
}