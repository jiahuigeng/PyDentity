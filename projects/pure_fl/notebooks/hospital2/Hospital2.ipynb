{
 "cells": [
  {
   "cell_type": "markdown",
   "id": "dc8808b6",
   "metadata": {},
   "source": [
    "# Hospital 2\n",
    "\n",
    "See hospital.py for full code"
   ]
  },
  {
   "cell_type": "code",
   "execution_count": 1,
   "id": "18ba4796",
   "metadata": {},
   "outputs": [],
   "source": [
    "from hospital.hospital import Hospital\n",
    "import nest_asyncio\n",
    "\n",
    "nest_asyncio.apply()"
   ]
  },
  {
   "cell_type": "code",
   "execution_count": 2,
   "id": "ac34e186",
   "metadata": {},
   "outputs": [],
   "source": [
    "data_location = 'data/hospital2.csv'"
   ]
  },
  {
   "cell_type": "code",
   "execution_count": 3,
   "id": "74574500",
   "metadata": {},
   "outputs": [],
   "source": [
    "WEBHOOK_HOST = \"0.0.0.0\"\n",
    "WEBHOOK_PORT = 8062\n",
    "WEBHOOK_BASE = \"\"\n",
    "ADMIN_URL = \"http://hospital2-agent:8061\"\n",
    "\n",
    "agent_config = {\n",
    "    \"webhook_host\": WEBHOOK_HOST,\n",
    "    \"webhook_port\": WEBHOOK_PORT,\n",
    "    \"webhook_base\": WEBHOOK_BASE,\n",
    "    \"admin_url\": ADMIN_URL\n",
    "}"
   ]
  },
  {
   "cell_type": "code",
   "execution_count": 4,
   "id": "aa974ee6",
   "metadata": {},
   "outputs": [
    {
     "name": "stdout",
     "output_type": "stream",
     "text": [
      "Subscribing too: basicmessages\n",
      "Subscribing too: connections\n",
      "Subscribing too: issue_credential\n",
      "Subscribing too: present_proof\n",
      "Data Processed\n"
     ]
    }
   ],
   "source": [
    "hospital2 = Hospital(agent_config, data_location)"
   ]
  },
  {
   "cell_type": "markdown",
   "id": "59654926",
   "metadata": {},
   "source": [
    "## Get Hospital Credential\n",
    "\n",
    "Copy connection invite from the NHS trust to receive the hospital credential. [NHS Trust Notebooks are here](http://localhost:8888/tree)"
   ]
  },
  {
   "cell_type": "code",
   "execution_count": 5,
   "id": "f9ed1ada",
   "metadata": {},
   "outputs": [],
   "source": [
    "# nhs_invite = {'@type': 'did:sov:BzCbsNYhMrjHiqZDTUASHg;spec/connections/1.0/invitation', '@id': 'c70c44db-91b6-4b16-b100-a98e65cfae95', 'serviceEndpoint': 'http://172.17.0.1:8020', 'recipientKeys': ['3oTpbDd1Z3V5gdqAdKPq87k1mhi39PKE8ikhgFUPbB55'], 'label': 'NHS Lothian'}\n",
    "\n",
    "nhs_invite = {'@type': 'did:sov:BzCbsNYhMrjHiqZDTUASHg;spec/connections/1.0/invitation', '@id': 'cb3915e4-a2e5-4286-96c6-9887cfecdfda', 'recipientKeys': ['5Fmf4c8NMZ39fvv1QSJQDxXsNMCQ7r6fS5EBUacuxHAv'], 'label': 'NHS Lothian', 'serviceEndpoint': 'http://172.17.0.1:8020'}"
   ]
  },
  {
   "cell_type": "code",
   "execution_count": 6,
   "id": "82eb9cfa",
   "metadata": {},
   "outputs": [
    {
     "name": "stdout",
     "output_type": "stream",
     "text": [
      "Connection Handler Called\n",
      "Connection 80942642-e076-481a-8fc8-b2cff4d9e1f8 in State invitation\n",
      "Connection Handler Called\n",
      "Connection 80942642-e076-481a-8fc8-b2cff4d9e1f8 in State request\n"
     ]
    }
   ],
   "source": [
    "response =await  hospital2.agent_controller.connections.accept_connection(nhs_invite)\n"
   ]
  },
  {
   "cell_type": "markdown",
   "id": "2909b44a",
   "metadata": {},
   "source": [
    "## Optional: Configure Research Authentication Policy\n",
    "\n",
    "This is a proof request that the hospital will automatically challenge the researcher for"
   ]
  },
  {
   "cell_type": "code",
   "execution_count": 7,
   "id": "80cc05ef",
   "metadata": {},
   "outputs": [],
   "source": [
    "schema_id = \"FWyJ74b38bCF1QbYF7tWMM:2:Authorised Research:0.0.1\"\n",
    "# cred_def = \"WfntKNFwXMQfgmU9ofbxPM:3:CL:156569:default\"\n",
    "\n",
    "revocation = False\n",
    "exchange_tracing = False\n",
    "\n",
    "#Enable this to ask for attributes to identity a user\n",
    "#TODO - change restriction to schemaId or credentialId\n",
    "\n",
    "req_attrs = [\n",
    "    {\"name\": \"scope\", \"restrictions\": [{\"schema_id\": schema_id}]},#, \"cred_def_id\": cred_def}]},\n",
    "]\n",
    "\n",
    "global indy_proof_request\n",
    "indy_proof_request = {\n",
    "    \"name\": \"Proof of Hospital\",\n",
    "    \"version\": \"1.0\",\n",
    "    \"requested_attributes\": {\n",
    "        f\"0_{req_attr['name']}_uuid\":\n",
    "        req_attr for req_attr in req_attrs\n",
    "    },\n",
    "    \"requested_predicates\": {\n",
    "#         f\"0_{req_pred['name']}_GE_uuid\":\n",
    "#         req_pred for req_pred in req_preds\n",
    "    },\n",
    "}\n"
   ]
  },
  {
   "cell_type": "code",
   "execution_count": 8,
   "id": "86567a21",
   "metadata": {},
   "outputs": [],
   "source": [
    "hospital2.set_authentication_policy(indy_proof_request)"
   ]
  },
  {
   "cell_type": "markdown",
   "id": "387534b0",
   "metadata": {},
   "source": [
    "## Copy from Invite Researcher"
   ]
  },
  {
   "cell_type": "code",
   "execution_count": 9,
   "id": "2cd95378",
   "metadata": {},
   "outputs": [],
   "source": [
    "# research_invite = {\"@type\": \"did:sov:BzCbsNYhMrjHiqZDTUASHg;spec/connections/1.0/invitation\", \"@id\": \"696b6287-63d5-49a0-8dea-2657fee2d826\", \"label\": \"Health Researcher\", \"recipientKeys\": [\"BU36Z9DJcNcT2XopUXgK29VF4y43xy4t4MQsPXbsuGyH\"], \"serviceEndpoint\": \"http://172.17.0.1:8040\"}\n",
    "research_invite = {\"@type\": \"did:sov:BzCbsNYhMrjHiqZDTUASHg;spec/connections/1.0/invitation\", \"@id\": \"7726f1fe-b674-4729-ab80-cdc056df103f\", \"recipientKeys\": [\"8ARx1iCpCtmLDib8UMYGk8s3RbwGMHmPhLiBgdU8aSWL\"], \"serviceEndpoint\": \"http://172.17.0.1:8040\", \"label\": \"Health Researcher\"}"
   ]
  },
  {
   "cell_type": "code",
   "execution_count": null,
   "id": "0d09f1f8",
   "metadata": {},
   "outputs": [
    {
     "name": "stdout",
     "output_type": "stream",
     "text": [
      "Connection Handler Called\n",
      "Connection 27ae9332-b50f-4a42-8e1a-a70ace41bf90 in State invitation\n",
      "Connection Handler Called\n",
      "Connection 27ae9332-b50f-4a42-8e1a-a70ace41bf90 in State request\n",
      "Establishing connection\n",
      "Connection Handler Called\n",
      "Connection 27ae9332-b50f-4a42-8e1a-a70ace41bf90 in State response\n",
      "Connection Handler Called\n",
      "Connection 27ae9332-b50f-4a42-8e1a-a70ace41bf90 in State active\n",
      "Pending connection moved to active. Challenging with auth policy if set\n",
      "Handle present proof\n",
      "Role verifier, Exchange 62ce819f-3bce-490d-848a-ac671a05a8c0 in state request_sent\n"
     ]
    },
    {
     "name": "stderr",
     "output_type": "stream",
     "text": [
      "WARNING:aries_webhook_server:Handling webhooks failed! IndexError('list index out of range') occurred when trying to handle this topic: present_proof\n"
     ]
    },
    {
     "name": "stdout",
     "output_type": "stream",
     "text": [
      "Handle present proof\n",
      "Role prover, Exchange 6b02d851-96d1-4f16-b264-926175ff67d3 in state request_received\n",
      "Received Authentication Challenge\n",
      "Credentials []\n"
     ]
    }
   ],
   "source": [
    "hospital2.establish_research_connection(research_invite)"
   ]
  },
  {
   "cell_type": "code",
   "execution_count": null,
   "id": "130db97a",
   "metadata": {},
   "outputs": [],
   "source": []
  }
 ],
 "metadata": {
  "kernelspec": {
   "display_name": "Python 3 (ipykernel)",
   "language": "python",
   "name": "python3"
  },
  "language_info": {
   "codemirror_mode": {
    "name": "ipython",
    "version": 3
   },
   "file_extension": ".py",
   "mimetype": "text/x-python",
   "name": "python",
   "nbconvert_exporter": "python",
   "pygments_lexer": "ipython3",
   "version": "3.9.5"
  }
 },
 "nbformat": 4,
 "nbformat_minor": 5
}
